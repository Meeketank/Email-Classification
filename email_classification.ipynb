{
 "cells": [
  {
   "cell_type": "markdown",
   "metadata": {},
   "source": [
    "# Email Classification with LSTM/GRU and GLEU Evaluation"
   ]
  },
  {
   "cell_type": "markdown",
   "metadata": {},
   "source": [
    "## Import Libraries"
   ]
  },
  {
   "cell_type": "code",
   "execution_count": null,
   "metadata": {},
   "outputs": [],
   "source": [
    "import numpy as np\n",
    "import pandas as pd\n",
    "import re\n",
    "import nltk\n",
    "from nltk.translate.gleu_score import corpus_gleu\n",
    "from sklearn.model_selection import train_test_split\n",
    "from keras.preprocessing.text import Tokenizer\n",
    "from keras.utils import pad_sequences\n",
    "from keras.models import Sequential\n",
    "from keras.layers import Embedding, LSTM, GRU, Dense, Dropout"
   ]
  },
  {
   "cell_type": "markdown",
   "metadata": {},
   "source": [
    "## Data Loading & Preprocessing"
   ]
  },
  {
   "cell_type": "code",
   "execution_count": null,
   "metadata": {},
   "outputs": [],
   "source": [
    "# Load dataset (expected format: CSV with 'Text' and 'Target' columns)\n",
    "data = pd.read_csv('email_data.csv')\n",
    "texts = data['Text'].values\n",
    "labels = data['Target'].values\n",
    "\n",
    "# Text cleaning function\n",
    "def clean_text(text):\n",
    "    text = text.lower()\n",
    "    text = re.sub(r'[^a-zA-Z\\s]', '', text)\n",
    "    return text\n",
    "\n",
    "# Apply cleaning\n",
    "texts = [clean_text(t) for t in texts]\n",
    "\n",
    "# Tokenization and padding\n",
    "tokenizer = Tokenizer(num_words=5000)\n",
    "tokenizer.fit_on_texts(texts)\n",
    "sequences = tokenizer.texts_to_sequences(texts)\n",
    "padded_sequences = pad_sequences(sequences, maxlen=100)\n",
    "\n",
    "# Train-test split\n",
    "X_train, X_test, y_train, y_test = train_test_split(padded_sequences, labels, test_size=0.2)"
   ]
  },
  {
   "cell_type": "markdown",
   "metadata": {},
   "source": [
    "## Model Architectures"
   ]
  },
  {
   "cell_type": "code",
   "execution_count": null,
   "metadata": {},
   "outputs": [],
   "source": [
    "# LSTM Model\n",
    "lstm_model = Sequential([\n",
    "    Embedding(5000, 128),\n",
    "    LSTM(128, dropout=0.2, recurrent_dropout=0.2),\n",
    "    Dense(1, activation='sigmoid')\n",
    "])\n",
    "\n",
    "lstm_model.compile(loss='binary_crossentropy', \n",
    "                  optimizer='adam',\n",
    "                  metrics=['accuracy'])\n",
    "\n",
    "# GRU Model\n",
    "gru_model = Sequential([\n",
    "    Embedding(5000, 128),\n",
    "    GRU(128, dropout=0.2, recurrent_dropout=0.2),\n",
    "    Dense(1, activation='sigmoid')\n",
    "])\n",
    "\n",
    "gru_model.compile(loss='binary_crossentropy',\n",
    "                 optimizer='adam',\n",
    "                 metrics=['accuracy'])"
   ]
  },
  {
   "cell_type": "markdown",
   "metadata": {},
   "source": [
    "## Training"
   ]
  },
  {
   "cell_type": "code",
   "execution_count": null,
   "metadata": {},
   "outputs": [],
   "source": [
    "# Train LSTM\n",
    "lstm_history = lstm_model.fit(X_train, y_train,\n",
    "                            batch_size=64,\n",
    "                            epochs=5,\n",
    "                            validation_split=0.2)\n",
    "\n",
    "# Train GRU\n",
    "gru_history = gru_model.fit(X_train, y_train,\n",
    "                           batch_size=64,\n",
    "                           epochs=5,\n",
    "                           validation_split=0.2)"
   ]
  },
  {
   "cell_type": "markdown",
   "metadata": {},
   "source": [
    "## Evaluation with GLEU Score"
   ]
  },
  {
   "cell_type": "code",
   "execution_count": null,
   "metadata": {},
   "outputs": [],
   "source": [
    "def evaluate_model(model, X_test, y_test):\n",
    "    # Standard metrics\n",
    "    loss, accuracy = model.evaluate(X_test, y_test)\n",
    "    \n",
    "    # GLEU score calculation\n",
    "    y_pred = (model.predict(X_test) > 0.5).astype(int)\n",
    "    references = [[str(label)] for label in y_test]\n",
    "    hypotheses = [str(pred[0]) for pred in y_pred]\n",
    "    \n",
    "    gleu_score = corpus_gleu([[r] for r in references], hypotheses)\n",
    "    \n",
    "    return accuracy, gleu_score\n",
    "\n",
    "# Evaluate both models\n",
    "lstm_accuracy, lstm_gleu = evaluate_model(lstm_model, X_test, y_test)\n",
    "gru_accuracy, gru_gleu = evaluate_model(gru_model, X_test, y_test)\n",
    "\n",
    "# Display results\n",
    "results = pd.DataFrame({\n",
    "    'Model': ['LSTM', 'GRU'],\n",
    "    'Accuracy': [lstm_accuracy, gru_accuracy],\n",
    "    'GLEU Score': [lstm_gleu, gru_gleu]\n",
    "})\n",
    "\n",
    "print(results)"
   ]
  }
 ],
 "metadata": {
  "kernelspec": {
   "display_name": "Python 3",
   "language": "python",
   "name": "python3"
  },
  "language_info": {
   "codemirror_mode": {
    "name": "ipython",
    "version": 3
   },
   "file_extension": ".py",
   "mimetype": "text/x-python",
   "name": "python",
   "nbconvert_exporter": "python",
   "pygments_lexer": "ipython3",
   "version": "3.8.5"
  }
 },
 "nbformat": 4,
 "nbformat_minor": 4
}

